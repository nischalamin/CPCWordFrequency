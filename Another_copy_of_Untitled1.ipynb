{
  "nbformat": 4,
  "nbformat_minor": 0,
  "metadata": {
    "colab": {
      "provenance": [],
      "authorship_tag": "ABX9TyPQXo11QArbkvrHx6d6Ajfy",
      "include_colab_link": true
    },
    "kernelspec": {
      "name": "python3",
      "display_name": "Python 3"
    },
    "language_info": {
      "name": "python"
    }
  },
  "cells": [
    {
      "cell_type": "markdown",
      "metadata": {
        "id": "view-in-github",
        "colab_type": "text"
      },
      "source": [
        "<a href=\"https://colab.research.google.com/github/nischalamin/CPCWordFrequency/blob/master/Another_copy_of_Untitled1.ipynb\" target=\"_parent\"><img src=\"https://colab.research.google.com/assets/colab-badge.svg\" alt=\"Open In Colab\"/></a>"
      ]
    },
    {
      "cell_type": "code",
      "execution_count": 5,
      "metadata": {
        "colab": {
          "base_uri": "https://localhost:8080/"
        },
        "id": "9z4p0ZkZ4moy",
        "outputId": "bdf3f367-247c-4d70-e697-cdd838ec7b2e"
      },
      "outputs": [
        {
          "output_type": "stream",
          "name": "stdout",
          "text": [
            "Collecting anaconda\n",
            "  Downloading anaconda-0.0.1.1.tar.gz (726 bytes)\n",
            "  Preparing metadata (setup.py) ... \u001b[?25l\u001b[?25hdone\n",
            "Requirement already satisfied: matplotlib in /usr/local/lib/python3.12/dist-packages (3.10.0)\n",
            "Requirement already satisfied: numpy in /usr/local/lib/python3.12/dist-packages (2.0.2)\n",
            "Collecting qiskit\n",
            "  Downloading qiskit-2.2.1-cp39-abi3-manylinux2014_x86_64.manylinux_2_17_x86_64.whl.metadata (12 kB)\n",
            "Requirement already satisfied: contourpy>=1.0.1 in /usr/local/lib/python3.12/dist-packages (from matplotlib) (1.3.3)\n",
            "Requirement already satisfied: cycler>=0.10 in /usr/local/lib/python3.12/dist-packages (from matplotlib) (0.12.1)\n",
            "Requirement already satisfied: fonttools>=4.22.0 in /usr/local/lib/python3.12/dist-packages (from matplotlib) (4.60.0)\n",
            "Requirement already satisfied: kiwisolver>=1.3.1 in /usr/local/lib/python3.12/dist-packages (from matplotlib) (1.4.9)\n",
            "Requirement already satisfied: packaging>=20.0 in /usr/local/lib/python3.12/dist-packages (from matplotlib) (25.0)\n",
            "Requirement already satisfied: pillow>=8 in /usr/local/lib/python3.12/dist-packages (from matplotlib) (11.3.0)\n",
            "Requirement already satisfied: pyparsing>=2.3.1 in /usr/local/lib/python3.12/dist-packages (from matplotlib) (3.2.4)\n",
            "Requirement already satisfied: python-dateutil>=2.7 in /usr/local/lib/python3.12/dist-packages (from matplotlib) (2.9.0.post0)\n",
            "Collecting rustworkx>=0.15.0 (from qiskit)\n",
            "  Downloading rustworkx-0.17.1-cp39-abi3-manylinux_2_17_x86_64.manylinux2014_x86_64.whl.metadata (10 kB)\n",
            "Requirement already satisfied: scipy>=1.5 in /usr/local/lib/python3.12/dist-packages (from qiskit) (1.16.2)\n",
            "Requirement already satisfied: dill>=0.3 in /usr/local/lib/python3.12/dist-packages (from qiskit) (0.3.8)\n",
            "Collecting stevedore>=3.0.0 (from qiskit)\n",
            "  Downloading stevedore-5.5.0-py3-none-any.whl.metadata (2.2 kB)\n",
            "Requirement already satisfied: typing-extensions in /usr/local/lib/python3.12/dist-packages (from qiskit) (4.15.0)\n",
            "Requirement already satisfied: six>=1.5 in /usr/local/lib/python3.12/dist-packages (from python-dateutil>=2.7->matplotlib) (1.17.0)\n",
            "Downloading qiskit-2.2.1-cp39-abi3-manylinux2014_x86_64.manylinux_2_17_x86_64.whl (8.0 MB)\n",
            "\u001b[2K   \u001b[90m━━━━━━━━━━━━━━━━━━━━━━━━━━━━━━━━━━━━━━━━\u001b[0m \u001b[32m8.0/8.0 MB\u001b[0m \u001b[31m62.2 MB/s\u001b[0m eta \u001b[36m0:00:00\u001b[0m\n",
            "\u001b[?25hDownloading rustworkx-0.17.1-cp39-abi3-manylinux_2_17_x86_64.manylinux2014_x86_64.whl (2.2 MB)\n",
            "\u001b[2K   \u001b[90m━━━━━━━━━━━━━━━━━━━━━━━━━━━━━━━━━━━━━━━━\u001b[0m \u001b[32m2.2/2.2 MB\u001b[0m \u001b[31m56.1 MB/s\u001b[0m eta \u001b[36m0:00:00\u001b[0m\n",
            "\u001b[?25hDownloading stevedore-5.5.0-py3-none-any.whl (49 kB)\n",
            "\u001b[2K   \u001b[90m━━━━━━━━━━━━━━━━━━━━━━━━━━━━━━━━━━━━━━━━\u001b[0m \u001b[32m49.5/49.5 kB\u001b[0m \u001b[31m3.3 MB/s\u001b[0m eta \u001b[36m0:00:00\u001b[0m\n",
            "\u001b[?25hBuilding wheels for collected packages: anaconda\n",
            "  Building wheel for anaconda (setup.py) ... \u001b[?25l\u001b[?25hdone\n",
            "  Created wheel for anaconda: filename=anaconda-0.0.1.1-py3-none-any.whl size=1093 sha256=d53fbb2123fc80f23a30ac72ed36b851a1cbf9cdbd9cc55d9c1430b8f9a67997\n",
            "  Stored in directory: /root/.cache/pip/wheels/4f/6e/40/8172063c425c01477a87d8d87e2d9afc7e52790aeea0ed5f33\n",
            "Successfully built anaconda\n",
            "Installing collected packages: anaconda, stevedore, rustworkx, qiskit\n",
            "Successfully installed anaconda-0.0.1.1 qiskit-2.2.1 rustworkx-0.17.1 stevedore-5.5.0\n"
          ]
        }
      ],
      "source": [
        "!pip install anaconda matplotlib numpy qiskit"
      ]
    },
    {
      "cell_type": "code",
      "source": [
        "# HW#4\n",
        "# Write a program to perform the inverse operation to that of Example 2.2.\n",
        "# That is, ask the user for the Cartesian coordinates x, y of a point in two-dimensional\n",
        "# space, and calculate and print the corresponding polar coordinates, with the angle θ\n",
        "# given in degrees\n",
        "\n",
        "# Ask user for Cartesian Coordinates\n",
        "import numpy as np\n",
        "import math\n",
        "from IPython.display import display, Math\n",
        "\n",
        "x = float (input(\"Enter x: \"))\n",
        "y = float (input(\"Enter y: \"))\n",
        "\n",
        "r = math.sqrt(x**2 + y**2)\n",
        "\n",
        "# Calculate angle in radians\n",
        "theta_radians = math.atan2(y, x)\n",
        "\n",
        "# Calculate angle theta in radians\n",
        "theta_degrees = math.degrees(theta_radians)\n",
        "\n",
        "#pr results\n",
        "display(Math(r\"Polar coordinates: r = {r:.4f}, \\theta = {theta_degrees:.2f}\\degree\".format(r=r,theta_degrees=theta_degrees)))\n"
      ],
      "metadata": {
        "id": "SqpMNVX86P4o",
        "colab": {
          "base_uri": "https://localhost:8080/",
          "height": 73
        },
        "outputId": "b69399d0-0bb2-4983-c9ca-e576ce987e9d"
      },
      "execution_count": 8,
      "outputs": [
        {
          "name": "stdout",
          "output_type": "stream",
          "text": [
            "Enter x: 5\n",
            "Enter y: 4\n"
          ]
        },
        {
          "output_type": "display_data",
          "data": {
            "text/plain": [
              "<IPython.core.display.Math object>"
            ],
            "text/latex": "$\\displaystyle Polar coordinates: r = 6.4031, \\theta = 38.66\\degree$"
          },
          "metadata": {}
        }
      ]
    }
  ]
}